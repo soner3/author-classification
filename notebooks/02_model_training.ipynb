{
 "cells": [
  {
   "cell_type": "code",
   "execution_count": 1,
   "id": "d5cd0a8f",
   "metadata": {},
   "outputs": [],
   "source": [
    "import os\n",
    "import sys\n",
    "import numpy as np\n",
    "import pandas as pd\n",
    "from scipy.sparse import load_npz\n",
    "from sklearn.ensemble import RandomForestClassifier\n",
    "from sklearn.tree import DecisionTreeClassifier\n",
    "from sklearn.naive_bayes import MultinomialNB\n",
    "from sklearn.svm import SVC\n",
    "from sklearn.discriminant_analysis import StandardScaler\n",
    "from sklearn.model_selection import GridSearchCV\n",
    "from concurrent.futures import ThreadPoolExecutor, as_completed\n",
    "from sklearn.neural_network import MLPClassifier\n",
    "from sklearn.metrics import accuracy_score, precision_score, recall_score, f1_score\n",
    "from xgboost import XGBClassifier\n",
    "from sklearn.metrics import confusion_matrix, ConfusionMatrixDisplay\n",
    "from matplotlib import pyplot as plt\n",
    "\n",
    "# Setup src imports\n",
    "sys.path.append(os.path.abspath(os.path.join(os.getcwd(), '..', 'src')))\n",
    "from logger import get_logger"
   ]
  },
  {
   "cell_type": "markdown",
   "id": "310d5946",
   "metadata": {},
   "source": [
    "# Paths"
   ]
  },
  {
   "cell_type": "code",
   "execution_count": 2,
   "id": "c53f3793",
   "metadata": {},
   "outputs": [],
   "source": [
    "DATA_TRAIN_PATH = \"./../data/train\"\n",
    "DATA_TEST_PATH = \"./../data/test\"\n",
    "REPORTS_PATH = \"./../reports\""
   ]
  },
  {
   "cell_type": "markdown",
   "id": "4c08d206",
   "metadata": {},
   "source": [
    "# Initialize logger"
   ]
  },
  {
   "cell_type": "code",
   "execution_count": 3,
   "id": "05b8de92",
   "metadata": {},
   "outputs": [],
   "source": [
    "logger = get_logger(\"train_models\")"
   ]
  },
  {
   "cell_type": "markdown",
   "id": "d4470d5c",
   "metadata": {},
   "source": [
    "# Define classification models"
   ]
  },
  {
   "cell_type": "code",
   "execution_count": 4,
   "id": "5afc5361",
   "metadata": {},
   "outputs": [],
   "source": [
    "models = {\n",
    "    \"RandomForest\": lambda: RandomForestClassifier(class_weight=\"balanced\", random_state=42),\n",
    "    \"SVM\": lambda: SVC(kernel=\"linear\", class_weight=\"balanced\", random_state=42),\n",
    "    \"XGBoost\": lambda: XGBClassifier(eval_metric=\"mlogloss\", random_state=42),\n",
    "    \"NaiveBayes\": lambda: MultinomialNB(),\n",
    "    \"MLP\": lambda: MLPClassifier(\n",
    "    hidden_layer_sizes=(100,),\n",
    "    max_iter=300,\n",
    "    learning_rate_init=0.001,\n",
    "    early_stopping=True,\n",
    "    random_state=42\n",
    "),\n",
    "    \"DecisionTree\": lambda: DecisionTreeClassifier(class_weight=\"balanced\", random_state=42),\n",
    "}"
   ]
  },
  {
   "cell_type": "markdown",
   "id": "1c6e0b3b",
   "metadata": {},
   "source": [
    "# Define feature sets and their sparsity"
   ]
  },
  {
   "cell_type": "code",
   "execution_count": 5,
   "id": "e82c08b2",
   "metadata": {},
   "outputs": [],
   "source": [
    "feature_sets = [\n",
    "    (\"tfidf_word_1gram\", True),\n",
    "    (\"tfidf_word_2gram\", True),\n",
    "    (\"tfidf_word_3gram\", True),\n",
    "    (\"tfidf_char_2gram\", True),\n",
    "    (\"tfidf_char_3gram\", True),\n",
    "    (\"bert\", False)\n",
    "]"
   ]
  },
  {
   "cell_type": "markdown",
   "id": "33d23af2",
   "metadata": {},
   "source": [
    "# Load training and test data for a given feature set"
   ]
  },
  {
   "cell_type": "code",
   "execution_count": 6,
   "id": "316c17ed",
   "metadata": {},
   "outputs": [],
   "source": [
    "def load_split_data(name, sparse=True):\n",
    "    if sparse:\n",
    "        X_train = load_npz(f\"{DATA_TRAIN_PATH}/X_{name}.npz\")\n",
    "        X_test = load_npz(f\"{DATA_TEST_PATH}/X_{name}.npz\")\n",
    "    else:\n",
    "        X_train = np.load(f\"{DATA_TRAIN_PATH}/X_{name}.npy\")\n",
    "        X_test = np.load(f\"{DATA_TEST_PATH}/X_{name}.npy\")\n",
    "\n",
    "    y_train = np.load(f\"{DATA_TRAIN_PATH}/y_{name}.npy\")\n",
    "    y_test = np.load(f\"{DATA_TEST_PATH}/y_{name}.npy\")\n",
    "    return X_train, X_test, y_train, y_test"
   ]
  },
  {
   "cell_type": "markdown",
   "id": "323ad933",
   "metadata": {},
   "source": [
    "# Evaluation function"
   ]
  },
  {
   "cell_type": "code",
   "execution_count": 7,
   "id": "1cabfc42",
   "metadata": {},
   "outputs": [],
   "source": [
    "def evaluate_model(feature_name, is_sparse, model_name, model_factory):\n",
    "    logger.info(f\"📊 Feature: {feature_name} | 🔧 Model: {model_name}\")\n",
    "    try:\n",
    "        X_train, X_test, y_train, y_test = load_split_data(feature_name, sparse=is_sparse)\n",
    "\n",
    "        # Skip NB on dense inputs\n",
    "        if model_name == \"NaiveBayes\" and not is_sparse:\n",
    "            logger.warning(f\"⏭ Skipping NaiveBayes for dense feature set: {feature_name}\")\n",
    "            return None\n",
    "\n",
    "        # === Feature scaling for dense inputs ===\n",
    "        if not is_sparse and model_name in [\"SVM\", \"MLP\"]:\n",
    "            scaler = StandardScaler()\n",
    "            X_train = scaler.fit_transform(X_train)\n",
    "            X_test = scaler.transform(X_test)\n",
    "\n",
    "        # === Hyperparameter tuning for SVM on BERT ===\n",
    "        if model_name == \"SVM\" and feature_name == \"bert\":\n",
    "            logger.info(f\"🔍 GridSearch for SVM on {feature_name}\")\n",
    "            param_grid = {\"C\": [0.1, 1, 10]}\n",
    "            grid = GridSearchCV(model_factory(), param_grid, cv=3, scoring=\"f1_weighted\", n_jobs=-1)\n",
    "            grid.fit(X_train, y_train)\n",
    "            model = grid.best_estimator_\n",
    "        else:\n",
    "            model = model_factory()\n",
    "            model.fit(X_train, y_train)\n",
    "\n",
    "        # === Predict\n",
    "        y_pred = model.predict(X_test)\n",
    "\n",
    "\n",
    "        acc = accuracy_score(y_test, y_pred)\n",
    "        err = 1 - acc\n",
    "\n",
    "        prec_per_class = precision_score(y_test, y_pred, average=None, zero_division=0)\n",
    "        recall_per_class = recall_score(y_test, y_pred, average=None, zero_division=0)\n",
    "        f1_per_class = f1_score(y_test, y_pred, average=None, zero_division=0)\n",
    "        weighted_f1 = f1_score(y_test, y_pred, average=\"weighted\", zero_division=0)\n",
    "\n",
    "        result = {\n",
    "            \"Feature\": feature_name,\n",
    "            \"Model\": model_name,\n",
    "            \"Accuracy\": acc,\n",
    "            \"ErrorRate\": err,\n",
    "            \"Pos_Precision\": prec_per_class[1] if len(prec_per_class) > 1 else 0,\n",
    "            \"Neg_Precision\": prec_per_class[0],\n",
    "            \"Pos_Recall\": recall_per_class[1] if len(recall_per_class) > 1 else 0,\n",
    "            \"Neg_Recall\": recall_per_class[0],\n",
    "            \"Pos_F1\": f1_per_class[1] if len(f1_per_class) > 1 else 0,\n",
    "            \"Neg_F1\": f1_per_class[0],\n",
    "            \"Weighted_F1\": weighted_f1\n",
    "        }\n",
    "        logger.info(f\"✅ {model_name} on {feature_name} → Acc: {acc:.3f} | F1: {weighted_f1:.3f}\")\n",
    "        return result\n",
    "\n",
    "    except Exception as e:\n",
    "        logger.error(f\"❌ Error in {model_name} on {feature_name}: {e}\")\n",
    "        return None"
   ]
  },
  {
   "cell_type": "markdown",
   "id": "a1ff871c",
   "metadata": {},
   "source": [
    "# Run evaluations in parallel"
   ]
  },
  {
   "cell_type": "code",
   "execution_count": 8,
   "id": "35191817",
   "metadata": {},
   "outputs": [
    {
     "name": "stdout",
     "output_type": "stream",
     "text": [
      "2025-04-13 09:47:06 [INFO] 🚀 Starting parallel model evaluation...\n",
      "2025-04-13 09:47:06 [INFO] 📊 Feature: tfidf_word_1gram | 🔧 Model: RandomForest\n",
      "2025-04-13 09:47:06 [INFO] 📊 Feature: tfidf_word_1gram | 🔧 Model: SVM\n",
      "2025-04-13 09:47:06 [INFO] 📊 Feature: tfidf_word_1gram | 🔧 Model: XGBoost\n",
      "2025-04-13 09:47:06 [INFO] 📊 Feature: tfidf_word_1gram | 🔧 Model: NaiveBayes\n",
      "2025-04-13 09:47:06 [INFO] 📊 Feature: tfidf_word_1gram | 🔧 Model: MLP\n",
      "2025-04-13 09:47:06 [INFO] 📊 Feature: tfidf_word_1gram | 🔧 Model: DecisionTree\n",
      "2025-04-13 09:47:06 [INFO] 📊 Feature: tfidf_word_2gram | 🔧 Model: RandomForest\n",
      "2025-04-13 09:47:06 [INFO] 📊 Feature: tfidf_word_2gram | 🔧 Model: SVM\n",
      "2025-04-13 09:47:06 [INFO] 📊 Feature: tfidf_word_2gram | 🔧 Model: XGBoost\n",
      "2025-04-13 09:47:06 [INFO] 📊 Feature: tfidf_word_2gram | 🔧 Model: NaiveBayes\n",
      "2025-04-13 09:47:06 [INFO] 📊 Feature: tfidf_word_2gram | 🔧 Model: MLP\n",
      "2025-04-13 09:47:06 [INFO] 📊 Feature: tfidf_word_2gram | 🔧 Model: DecisionTree\n",
      "2025-04-13 09:47:06 [INFO] 📊 Feature: tfidf_word_3gram | 🔧 Model: RandomForest\n",
      "2025-04-13 09:47:06 [INFO] 📊 Feature: tfidf_word_3gram | 🔧 Model: SVM\n",
      "2025-04-13 09:47:06 [INFO] 📊 Feature: tfidf_word_3gram | 🔧 Model: XGBoost\n",
      "2025-04-13 09:47:06 [INFO] 📊 Feature: tfidf_word_3gram | 🔧 Model: NaiveBayes\n",
      "2025-04-13 09:47:06 [INFO] ✅ NaiveBayes on tfidf_word_2gram → Acc: 0.658 | F1: 0.638\n",
      "2025-04-13 09:47:07 [INFO] 📊 Feature: tfidf_word_3gram | 🔧 Model: MLP\n",
      "2025-04-13 09:47:07 [INFO] ✅ NaiveBayes on tfidf_word_3gram → Acc: 0.404 | F1: 0.384\n",
      "2025-04-13 09:47:07 [INFO] 📊 Feature: tfidf_word_3gram | 🔧 Model: DecisionTree\n",
      "2025-04-13 09:47:07 [INFO] ✅ NaiveBayes on tfidf_word_1gram → Acc: 0.842 | F1: 0.838\n",
      "2025-04-13 09:47:07 [INFO] 📊 Feature: tfidf_char_2gram | 🔧 Model: RandomForest\n",
      "2025-04-13 09:47:07 [INFO] ✅ SVM on tfidf_word_3gram → Acc: 0.142 | F1: 0.160\n",
      "2025-04-13 09:47:07 [INFO] 📊 Feature: tfidf_char_2gram | 🔧 Model: SVM\n",
      "2025-04-13 09:47:07 [INFO] ✅ DecisionTree on tfidf_word_2gram → Acc: 0.188 | F1: 0.171\n",
      "2025-04-13 09:47:07 [INFO] 📊 Feature: tfidf_char_2gram | 🔧 Model: XGBoost\n",
      "2025-04-13 09:47:08 [INFO] ✅ DecisionTree on tfidf_word_3gram → Acc: 0.175 | F1: 0.171\n",
      "2025-04-13 09:47:08 [INFO] 📊 Feature: tfidf_char_2gram | 🔧 Model: NaiveBayes\n",
      "2025-04-13 09:47:08 [INFO] ✅ NaiveBayes on tfidf_char_2gram → Acc: 0.875 | F1: 0.872\n",
      "2025-04-13 09:47:08 [INFO] 📊 Feature: tfidf_char_2gram | 🔧 Model: MLP\n",
      "2025-04-13 09:47:08 [INFO] ✅ SVM on tfidf_word_2gram → Acc: 0.479 | F1: 0.512\n",
      "2025-04-13 09:47:08 [INFO] 📊 Feature: tfidf_char_2gram | 🔧 Model: DecisionTree\n",
      "2025-04-13 09:47:08 [INFO] ✅ DecisionTree on tfidf_word_1gram → Acc: 0.312 | F1: 0.321\n",
      "2025-04-13 09:47:08 [INFO] 📊 Feature: tfidf_char_3gram | 🔧 Model: RandomForest\n",
      "2025-04-13 09:47:10 [INFO] ✅ DecisionTree on tfidf_char_2gram → Acc: 0.558 | F1: 0.555\n",
      "2025-04-13 09:47:10 [INFO] 📊 Feature: tfidf_char_3gram | 🔧 Model: SVM\n",
      "2025-04-13 09:47:10 [INFO] ✅ RandomForest on tfidf_word_2gram → Acc: 0.421 | F1: 0.439\n",
      "2025-04-13 09:47:10 [INFO] 📊 Feature: tfidf_char_3gram | 🔧 Model: XGBoost\n",
      "2025-04-13 09:47:11 [INFO] ✅ RandomForest on tfidf_word_3gram → Acc: 0.196 | F1: 0.209\n",
      "2025-04-13 09:47:11 [INFO] 📊 Feature: tfidf_char_3gram | 🔧 Model: NaiveBayes\n",
      "2025-04-13 09:47:11 [INFO] ✅ RandomForest on tfidf_word_1gram → Acc: 0.621 | F1: 0.619\n",
      "2025-04-13 09:47:11 [INFO] 📊 Feature: tfidf_char_3gram | 🔧 Model: MLP\n",
      "2025-04-13 09:47:12 [INFO] ✅ RandomForest on tfidf_char_2gram → Acc: 0.708 | F1: 0.698\n",
      "2025-04-13 09:47:12 [INFO] 📊 Feature: tfidf_char_3gram | 🔧 Model: DecisionTree\n",
      "2025-04-13 09:47:12 [INFO] ✅ NaiveBayes on tfidf_char_3gram → Acc: 0.933 | F1: 0.932\n",
      "2025-04-13 09:47:12 [INFO] 📊 Feature: bert | 🔧 Model: RandomForest\n",
      "2025-04-13 09:47:12 [INFO] ✅ MLP on tfidf_word_2gram → Acc: 0.588 | F1: 0.587\n",
      "2025-04-13 09:47:12 [INFO] 📊 Feature: bert | 🔧 Model: SVM\n",
      "2025-04-13 09:47:12 [INFO] 🔍 GridSearch for SVM on bert\n",
      "2025-04-13 09:47:14 [INFO] ✅ MLP on tfidf_word_3gram → Acc: 0.400 | F1: 0.389\n",
      "2025-04-13 09:47:14 [INFO] 📊 Feature: bert | 🔧 Model: XGBoost\n",
      "2025-04-13 09:47:15 [INFO] ✅ SVM on tfidf_word_1gram → Acc: 0.842 | F1: 0.842\n",
      "2025-04-13 09:47:15 [INFO] 📊 Feature: bert | 🔧 Model: NaiveBayes\n",
      "2025-04-13 09:47:15 [WARNING] ⏭ Skipping NaiveBayes for dense feature set: bert\n",
      "2025-04-13 09:47:15 [INFO] 📊 Feature: bert | 🔧 Model: MLP\n",
      "2025-04-13 09:47:17 [INFO] ✅ SVM on tfidf_char_2gram → Acc: 0.817 | F1: 0.817\n",
      "2025-04-13 09:47:17 [INFO] 📊 Feature: bert | 🔧 Model: DecisionTree\n",
      "2025-04-13 09:47:17 [INFO] ✅ MLP on tfidf_word_1gram → Acc: 0.750 | F1: 0.756\n",
      "2025-04-13 09:47:20 [INFO] ✅ SVM on bert → Acc: 0.796 | F1: 0.796\n",
      "2025-04-13 09:47:20 [INFO] ✅ MLP on tfidf_char_2gram → Acc: 0.854 | F1: 0.851\n",
      "2025-04-13 09:47:23 [INFO] ✅ DecisionTree on bert → Acc: 0.175 | F1: 0.171\n",
      "2025-04-13 09:47:25 [INFO] ✅ DecisionTree on tfidf_char_3gram → Acc: 0.492 | F1: 0.481\n",
      "2025-04-13 09:47:26 [INFO] ✅ RandomForest on tfidf_char_3gram → Acc: 0.771 | F1: 0.763\n",
      "2025-04-13 09:47:28 [INFO] ✅ RandomForest on bert → Acc: 0.613 | F1: 0.601\n",
      "2025-04-13 09:47:32 [INFO] ✅ MLP on tfidf_char_3gram → Acc: 0.792 | F1: 0.787\n",
      "2025-04-13 09:47:40 [INFO] ✅ MLP on bert → Acc: 0.779 | F1: 0.777\n",
      "2025-04-13 09:48:01 [INFO] ✅ XGBoost on tfidf_word_3gram → Acc: 0.125 | F1: 0.110\n",
      "2025-04-13 09:48:09 [INFO] ✅ SVM on tfidf_char_3gram → Acc: 0.842 | F1: 0.843\n",
      "2025-04-13 09:48:31 [INFO] ✅ XGBoost on tfidf_word_2gram → Acc: 0.317 | F1: 0.316\n",
      "2025-04-13 09:48:37 [INFO] ✅ XGBoost on tfidf_char_2gram → Acc: 0.762 | F1: 0.753\n",
      "2025-04-13 09:48:37 [INFO] ✅ XGBoost on bert → Acc: 0.613 | F1: 0.613\n",
      "2025-04-13 09:48:51 [INFO] ✅ XGBoost on tfidf_word_1gram → Acc: 0.579 | F1: 0.571\n",
      "2025-04-13 09:50:11 [INFO] ✅ XGBoost on tfidf_char_3gram → Acc: 0.787 | F1: 0.775\n"
     ]
    }
   ],
   "source": [
    "results = []\n",
    "\n",
    "logger.info(\"🚀 Starting parallel model evaluation...\")\n",
    "with ThreadPoolExecutor(max_workers=os.cpu_count()) as executor:\n",
    "    futures = [\n",
    "        executor.submit(evaluate_model, fname, is_sparse, mname, mfactory)\n",
    "        for fname, is_sparse in feature_sets\n",
    "        for mname, mfactory in models.items()\n",
    "    ]\n",
    "\n",
    "    for future in as_completed(futures):\n",
    "        res = future.result()\n",
    "        if res:\n",
    "            results.append(res)"
   ]
  },
  {
   "cell_type": "markdown",
   "id": "4eae3e51",
   "metadata": {},
   "source": [
    "# Save results to CSV for reporting"
   ]
  },
  {
   "cell_type": "code",
   "execution_count": 9,
   "id": "d559a139",
   "metadata": {},
   "outputs": [
    {
     "name": "stdout",
     "output_type": "stream",
     "text": [
      "2025-04-13 09:50:11 [INFO] 📄 Saved detailed report to: ./../reports/model_results.csv\n"
     ]
    }
   ],
   "source": [
    "results_df = pd.DataFrame(results)\n",
    "os.makedirs(REPORTS_PATH, exist_ok=True)\n",
    "results_df.to_csv(os.path.join(REPORTS_PATH, \"model_results.csv\"), index=False)\n",
    "logger.info(f\"📄 Saved detailed report to: {REPORTS_PATH}/model_results.csv\")"
   ]
  }
 ],
 "metadata": {
  "kernelspec": {
   "display_name": "venv",
   "language": "python",
   "name": "python3"
  },
  "language_info": {
   "codemirror_mode": {
    "name": "ipython",
    "version": 3
   },
   "file_extension": ".py",
   "mimetype": "text/x-python",
   "name": "python",
   "nbconvert_exporter": "python",
   "pygments_lexer": "ipython3",
   "version": "3.12.3"
  }
 },
 "nbformat": 4,
 "nbformat_minor": 5
}
