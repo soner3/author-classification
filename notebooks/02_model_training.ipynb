{
 "cells": [
  {
   "cell_type": "code",
   "execution_count": 1,
   "id": "d5cd0a8f",
   "metadata": {},
   "outputs": [],
   "source": [
    "import os\n",
    "import sys\n",
    "import numpy as np\n",
    "import pandas as pd\n",
    "from scipy.sparse import load_npz\n",
    "from sklearn.ensemble import RandomForestClassifier\n",
    "from sklearn.tree import DecisionTreeClassifier\n",
    "from sklearn.naive_bayes import MultinomialNB\n",
    "from sklearn.svm import SVC\n",
    "from sklearn.discriminant_analysis import StandardScaler\n",
    "from sklearn.model_selection import GridSearchCV\n",
    "from concurrent.futures import ThreadPoolExecutor, as_completed\n",
    "from sklearn.neural_network import MLPClassifier\n",
    "from sklearn.metrics import accuracy_score, precision_score, recall_score, f1_score\n",
    "from xgboost import XGBClassifier\n",
    "\n",
    "# Setup src imports\n",
    "sys.path.append(os.path.abspath(os.path.join(os.getcwd(), '..', 'src')))\n",
    "from logger import get_logger"
   ]
  },
  {
   "cell_type": "markdown",
   "id": "310d5946",
   "metadata": {},
   "source": [
    "# Paths"
   ]
  },
  {
   "cell_type": "code",
   "execution_count": 2,
   "id": "c53f3793",
   "metadata": {},
   "outputs": [],
   "source": [
    "DATA_TRAIN_PATH = \"./../data/train\"\n",
    "DATA_TEST_PATH = \"./../data/test\"\n",
    "REPORTS_PATH = \"./../reports\""
   ]
  },
  {
   "cell_type": "markdown",
   "id": "4c08d206",
   "metadata": {},
   "source": [
    "# Initialize logger"
   ]
  },
  {
   "cell_type": "code",
   "execution_count": 3,
   "id": "05b8de92",
   "metadata": {},
   "outputs": [],
   "source": [
    "logger = get_logger(\"train_models\")"
   ]
  },
  {
   "cell_type": "markdown",
   "id": "d4470d5c",
   "metadata": {},
   "source": [
    "# Define classification models"
   ]
  },
  {
   "cell_type": "code",
   "execution_count": 4,
   "id": "5afc5361",
   "metadata": {},
   "outputs": [],
   "source": [
    "models = {\n",
    "    \"RandomForest\": lambda: RandomForestClassifier(\n",
    "        class_weight=\"balanced\", n_estimators=100, n_jobs=-1, random_state=42\n",
    "    ),\n",
    "    \"SVM\": lambda: SVC(kernel=\"linear\", class_weight=\"balanced\", random_state=42),\n",
    "    \"XGBoost\": lambda: XGBClassifier(\n",
    "        eval_metric=\"mlogloss\", use_label_encoder=False, n_estimators=100, n_jobs=-1, random_state=42\n",
    "    ),\n",
    "    \"NaiveBayes\": lambda: MultinomialNB(),\n",
    "    \"MLP\": lambda: MLPClassifier(\n",
    "        hidden_layer_sizes=(64,),\n",
    "        max_iter=200,\n",
    "        early_stopping=True,\n",
    "        learning_rate_init=0.01,\n",
    "        random_state=42\n",
    "    ),\n",
    "    \"DecisionTree\": lambda: DecisionTreeClassifier(class_weight=\"balanced\", random_state=42),\n",
    "}"
   ]
  },
  {
   "cell_type": "markdown",
   "id": "1c6e0b3b",
   "metadata": {},
   "source": [
    "# Define feature sets and their sparsity"
   ]
  },
  {
   "cell_type": "code",
   "execution_count": 5,
   "id": "e82c08b2",
   "metadata": {},
   "outputs": [],
   "source": [
    "feature_sets = [\n",
    "    (\"tfidf_word_1gram\", True),\n",
    "    (\"tfidf_word_2gram\", True),\n",
    "    (\"tfidf_word_3gram\", True),\n",
    "    (\"tfidf_char_2gram\", True),\n",
    "    (\"tfidf_char_3gram\", True),\n",
    "    (\"bert\", False)\n",
    "]"
   ]
  },
  {
   "cell_type": "markdown",
   "id": "33d23af2",
   "metadata": {},
   "source": [
    "# Load training and test data for a given feature set"
   ]
  },
  {
   "cell_type": "code",
   "execution_count": 6,
   "id": "316c17ed",
   "metadata": {},
   "outputs": [],
   "source": [
    "def load_split_data(name, sparse=True):\n",
    "    if sparse:\n",
    "        X_train = load_npz(f\"{DATA_TRAIN_PATH}/X_{name}.npz\")\n",
    "        X_test = load_npz(f\"{DATA_TEST_PATH}/X_{name}.npz\")\n",
    "    else:\n",
    "        X_train = np.load(f\"{DATA_TRAIN_PATH}/X_{name}.npy\")\n",
    "        X_test = np.load(f\"{DATA_TEST_PATH}/X_{name}.npy\")\n",
    "\n",
    "    y_train = np.load(f\"{DATA_TRAIN_PATH}/y_{name}.npy\")\n",
    "    y_test = np.load(f\"{DATA_TEST_PATH}/y_{name}.npy\")\n",
    "    return X_train, X_test, y_train, y_test"
   ]
  },
  {
   "cell_type": "markdown",
   "id": "323ad933",
   "metadata": {},
   "source": [
    "# Evaluation function"
   ]
  },
  {
   "cell_type": "code",
   "execution_count": 7,
   "id": "1cabfc42",
   "metadata": {},
   "outputs": [],
   "source": [
    "def evaluate_model(feature_name, is_sparse, model_name, model_factory):\n",
    "    logger.info(f\"📊 Feature: {feature_name} | 🔧 Model: {model_name}\")\n",
    "    try:\n",
    "        X_train, X_test, y_train, y_test = load_split_data(feature_name, sparse=is_sparse)\n",
    "\n",
    "        if model_name == \"NaiveBayes\" and not is_sparse:\n",
    "            logger.warning(f\"⏭ Skipping NaiveBayes for dense feature set: {feature_name}\")\n",
    "            return None\n",
    "\n",
    "        if not is_sparse and model_name in [\"SVM\", \"MLP\"]:\n",
    "            scaler = StandardScaler()\n",
    "            X_train = scaler.fit_transform(X_train)\n",
    "            X_test = scaler.transform(X_test)\n",
    "\n",
    "        # Light tuning only for SVM + BERT\n",
    "        if model_name == \"SVM\" and feature_name == \"bert\":\n",
    "            logger.info(f\"🔍 GridSearch for SVM on {feature_name}\")\n",
    "            param_grid = {\"C\": [1]}\n",
    "            grid = GridSearchCV(SVC(kernel=\"linear\", class_weight=\"balanced\"), param_grid, cv=2, scoring=\"f1_weighted\", n_jobs=-1)\n",
    "            grid.fit(X_train, y_train)\n",
    "            model = grid.best_estimator_\n",
    "        else:\n",
    "            model = model_factory()\n",
    "            model.fit(X_train, y_train)\n",
    "\n",
    "        y_pred = model.predict(X_test)\n",
    "\n",
    "        acc = accuracy_score(y_test, y_pred)\n",
    "        err = 1 - acc\n",
    "        prec_per_class = precision_score(y_test, y_pred, average=None, zero_division=0)\n",
    "        recall_per_class = recall_score(y_test, y_pred, average=None, zero_division=0)\n",
    "        f1_per_class = f1_score(y_test, y_pred, average=None, zero_division=0)\n",
    "        weighted_f1 = f1_score(y_test, y_pred, average=\"weighted\", zero_division=0)\n",
    "\n",
    "        logger.info(f\"✅ {model_name} on {feature_name} → Acc: {acc:.3f} | F1: {weighted_f1:.3f}\")\n",
    "\n",
    "        return {\n",
    "            \"Feature\": feature_name,\n",
    "            \"Model\": model_name,\n",
    "            \"Accuracy\": acc,\n",
    "            \"ErrorRate\": err,\n",
    "            \"Pos_Precision\": prec_per_class[1] if len(prec_per_class) > 1 else 0,\n",
    "            \"Neg_Precision\": prec_per_class[0],\n",
    "            \"Pos_Recall\": recall_per_class[1] if len(recall_per_class) > 1 else 0,\n",
    "            \"Neg_Recall\": recall_per_class[0],\n",
    "            \"Pos_F1\": f1_per_class[1] if len(f1_per_class) > 1 else 0,\n",
    "            \"Neg_F1\": f1_per_class[0],\n",
    "            \"Weighted_F1\": weighted_f1\n",
    "        }\n",
    "\n",
    "    except Exception as e:\n",
    "        logger.error(f\"❌ Error in {model_name} on {feature_name}: {e}\")\n",
    "        return None"
   ]
  },
  {
   "cell_type": "markdown",
   "id": "a1ff871c",
   "metadata": {},
   "source": [
    "# Run evaluations in parallel"
   ]
  },
  {
   "cell_type": "code",
   "execution_count": 8,
   "id": "35191817",
   "metadata": {},
   "outputs": [
    {
     "name": "stdout",
     "output_type": "stream",
     "text": [
      "2025-04-21 14:23:24 [INFO] 🚀 Starting parallel model evaluation...\n",
      "2025-04-21 14:23:24 [INFO] 📊 Feature: tfidf_word_1gram | 🔧 Model: RandomForest\n",
      "2025-04-21 14:23:24 [INFO] 📊 Feature: tfidf_word_1gram | 🔧 Model: SVM\n",
      "2025-04-21 14:23:24 [INFO] 📊 Feature: tfidf_word_1gram | 🔧 Model: XGBoost\n",
      "2025-04-21 14:23:24 [INFO] 📊 Feature: tfidf_word_1gram | 🔧 Model: NaiveBayes\n",
      "2025-04-21 14:23:24 [INFO] 📊 Feature: tfidf_word_1gram | 🔧 Model: MLP\n",
      "2025-04-21 14:23:24 [INFO] 📊 Feature: tfidf_word_1gram | 🔧 Model: DecisionTree\n",
      "2025-04-21 14:23:24 [INFO] 📊 Feature: tfidf_word_2gram | 🔧 Model: RandomForest\n",
      "2025-04-21 14:23:24 [INFO] 📊 Feature: tfidf_word_2gram | 🔧 Model: SVM\n",
      "2025-04-21 14:23:24 [INFO] 📊 Feature: tfidf_word_2gram | 🔧 Model: XGBoost\n",
      "2025-04-21 14:23:24 [INFO] 📊 Feature: tfidf_word_2gram | 🔧 Model: NaiveBayes\n",
      "2025-04-21 14:23:24 [INFO] 📊 Feature: tfidf_word_2gram | 🔧 Model: MLP\n",
      "2025-04-21 14:23:24 [INFO] 📊 Feature: tfidf_word_2gram | 🔧 Model: DecisionTree\n",
      "2025-04-21 14:23:25 [INFO] ✅ NaiveBayes on tfidf_word_2gram → Acc: 0.642 | F1: 0.625\n",
      "2025-04-21 14:23:25 [INFO] 📊 Feature: tfidf_word_3gram | 🔧 Model: RandomForest\n",
      "2025-04-21 14:23:25 [INFO] ✅ NaiveBayes on tfidf_word_1gram → Acc: 0.838 | F1: 0.825\n",
      "2025-04-21 14:23:25 [INFO] 📊 Feature: tfidf_word_3gram | 🔧 Model: SVM\n",
      "2025-04-21 14:23:27 [INFO] ✅ SVM on tfidf_word_3gram → Acc: 0.125 | F1: 0.140\n",
      "2025-04-21 14:23:27 [INFO] 📊 Feature: tfidf_word_3gram | 🔧 Model: XGBoost\n",
      "2025-04-21 14:23:28 [INFO] ✅ RandomForest on tfidf_word_1gram → Acc: 0.646 | F1: 0.643\n",
      "2025-04-21 14:23:28 [INFO] 📊 Feature: tfidf_word_3gram | 🔧 Model: NaiveBayes\n",
      "2025-04-21 14:23:28 [INFO] ✅ RandomForest on tfidf_word_2gram → Acc: 0.421 | F1: 0.422\n",
      "2025-04-21 14:23:28 [INFO] 📊 Feature: tfidf_word_3gram | 🔧 Model: MLP\n",
      "2025-04-21 14:23:28 [INFO] ✅ RandomForest on tfidf_word_3gram → Acc: 0.183 | F1: 0.189\n",
      "2025-04-21 14:23:28 [INFO] 📊 Feature: tfidf_word_3gram | 🔧 Model: DecisionTree\n",
      "2025-04-21 14:23:28 [INFO] ✅ NaiveBayes on tfidf_word_3gram → Acc: 0.358 | F1: 0.350\n",
      "2025-04-21 14:23:28 [INFO] 📊 Feature: tfidf_char_2gram | 🔧 Model: RandomForest\n",
      "2025-04-21 14:23:29 [INFO] ✅ DecisionTree on tfidf_word_2gram → Acc: 0.183 | F1: 0.176\n",
      "2025-04-21 14:23:29 [INFO] 📊 Feature: tfidf_char_2gram | 🔧 Model: SVM\n",
      "2025-04-21 14:23:30 [INFO] ✅ SVM on tfidf_word_2gram → Acc: 0.442 | F1: 0.468\n",
      "2025-04-21 14:23:30 [INFO] 📊 Feature: tfidf_char_2gram | 🔧 Model: XGBoost\n",
      "2025-04-21 14:23:30 [INFO] ✅ RandomForest on tfidf_char_2gram → Acc: 0.696 | F1: 0.684\n",
      "2025-04-21 14:23:30 [INFO] 📊 Feature: tfidf_char_2gram | 🔧 Model: NaiveBayes\n",
      "2025-04-21 14:23:31 [INFO] ✅ NaiveBayes on tfidf_char_2gram → Acc: 0.875 | F1: 0.871\n",
      "2025-04-21 14:23:31 [INFO] 📊 Feature: tfidf_char_2gram | 🔧 Model: MLP\n",
      "2025-04-21 14:23:31 [INFO] ✅ DecisionTree on tfidf_word_3gram → Acc: 0.150 | F1: 0.155\n",
      "2025-04-21 14:23:31 [INFO] 📊 Feature: tfidf_char_2gram | 🔧 Model: DecisionTree\n",
      "2025-04-21 14:23:31 [INFO] ✅ DecisionTree on tfidf_word_1gram → Acc: 0.292 | F1: 0.286\n",
      "2025-04-21 14:23:31 [INFO] 📊 Feature: tfidf_char_3gram | 🔧 Model: RandomForest\n",
      "2025-04-21 14:23:33 [INFO] ✅ MLP on tfidf_word_2gram → Acc: 0.508 | F1: 0.519\n",
      "2025-04-21 14:23:33 [INFO] 📊 Feature: tfidf_char_3gram | 🔧 Model: SVM\n",
      "2025-04-21 14:23:35 [INFO] ✅ MLP on tfidf_char_2gram → Acc: 0.067 | F1: 0.014\n",
      "2025-04-21 14:23:35 [INFO] 📊 Feature: tfidf_char_3gram | 🔧 Model: XGBoost\n",
      "2025-04-21 14:23:35 [INFO] ✅ RandomForest on tfidf_char_3gram → Acc: 0.767 | F1: 0.753\n",
      "2025-04-21 14:23:35 [INFO] 📊 Feature: tfidf_char_3gram | 🔧 Model: NaiveBayes\n",
      "2025-04-21 14:23:36 [INFO] ✅ NaiveBayes on tfidf_char_3gram → Acc: 0.925 | F1: 0.922\n",
      "2025-04-21 14:23:36 [INFO] 📊 Feature: tfidf_char_3gram | 🔧 Model: MLP\n",
      "2025-04-21 14:23:36 [INFO] ✅ MLP on tfidf_word_3gram → Acc: 0.329 | F1: 0.302\n",
      "2025-04-21 14:23:36 [INFO] 📊 Feature: tfidf_char_3gram | 🔧 Model: DecisionTree\n",
      "2025-04-21 14:23:37 [INFO] ✅ DecisionTree on tfidf_char_2gram → Acc: 0.571 | F1: 0.574\n",
      "2025-04-21 14:23:37 [INFO] 📊 Feature: bert | 🔧 Model: RandomForest\n",
      "2025-04-21 14:23:39 [INFO] ✅ RandomForest on bert → Acc: 0.558 | F1: 0.543\n",
      "2025-04-21 14:23:39 [INFO] 📊 Feature: bert | 🔧 Model: SVM\n",
      "2025-04-21 14:23:39 [INFO] 🔍 GridSearch for SVM on bert\n",
      "2025-04-21 14:23:44 [INFO] ✅ MLP on tfidf_word_1gram → Acc: 0.658 | F1: 0.650\n",
      "2025-04-21 14:23:44 [INFO] 📊 Feature: bert | 🔧 Model: XGBoost\n",
      "2025-04-21 14:23:46 [INFO] ✅ SVM on tfidf_word_1gram → Acc: 0.792 | F1: 0.793\n",
      "2025-04-21 14:23:46 [INFO] 📊 Feature: bert | 🔧 Model: NaiveBayes\n",
      "2025-04-21 14:23:46 [WARNING] ⏭ Skipping NaiveBayes for dense feature set: bert\n",
      "2025-04-21 14:23:46 [INFO] 📊 Feature: bert | 🔧 Model: MLP\n",
      "2025-04-21 14:23:47 [INFO] ✅ MLP on tfidf_char_3gram → Acc: 0.192 | F1: 0.133\n",
      "2025-04-21 14:23:47 [INFO] 📊 Feature: bert | 🔧 Model: DecisionTree\n",
      "2025-04-21 14:23:48 [INFO] ✅ SVM on tfidf_char_2gram → Acc: 0.808 | F1: 0.806\n",
      "2025-04-21 14:23:49 [INFO] ✅ MLP on bert → Acc: 0.662 | F1: 0.647\n",
      "2025-04-21 14:23:52 [INFO] ✅ DecisionTree on tfidf_char_3gram → Acc: 0.479 | F1: 0.472\n",
      "2025-04-21 14:23:52 [INFO] ✅ DecisionTree on bert → Acc: 0.163 | F1: 0.167\n",
      "2025-04-21 14:24:00 [INFO] ✅ SVM on bert → Acc: 0.808 | F1: 0.805\n",
      "2025-04-21 14:24:50 [INFO] ✅ SVM on tfidf_char_3gram → Acc: 0.879 | F1: 0.877\n",
      "2025-04-21 14:26:43 [INFO] ✅ XGBoost on bert → Acc: 0.579 | F1: 0.581\n",
      "2025-04-21 14:26:45 [INFO] ✅ XGBoost on tfidf_char_2gram → Acc: 0.767 | F1: 0.764\n",
      "2025-04-21 14:27:05 [INFO] ✅ XGBoost on tfidf_word_1gram → Acc: 0.537 | F1: 0.530\n",
      "2025-04-21 14:27:07 [INFO] ✅ XGBoost on tfidf_word_3gram → Acc: 0.121 | F1: 0.107\n",
      "2025-04-21 14:27:10 [INFO] ✅ XGBoost on tfidf_word_2gram → Acc: 0.317 | F1: 0.301\n",
      "2025-04-21 14:29:04 [INFO] ✅ XGBoost on tfidf_char_3gram → Acc: 0.812 | F1: 0.804\n"
     ]
    }
   ],
   "source": [
    "results = []\n",
    "\n",
    "logger.info(\"🚀 Starting parallel model evaluation...\")\n",
    "with ThreadPoolExecutor(max_workers=os.cpu_count()) as executor:\n",
    "    futures = [\n",
    "        executor.submit(evaluate_model, fname, is_sparse, mname, mfactory)\n",
    "        for fname, is_sparse in feature_sets\n",
    "        for mname, mfactory in models.items()\n",
    "    ]\n",
    "\n",
    "    for future in as_completed(futures):\n",
    "        res = future.result()\n",
    "        if res:\n",
    "            results.append(res)"
   ]
  },
  {
   "cell_type": "markdown",
   "id": "4eae3e51",
   "metadata": {},
   "source": [
    "# Save results to CSV for reporting"
   ]
  },
  {
   "cell_type": "code",
   "execution_count": 9,
   "id": "d559a139",
   "metadata": {},
   "outputs": [
    {
     "name": "stdout",
     "output_type": "stream",
     "text": [
      "2025-04-21 14:29:04 [INFO] 📄 Saved detailed report to: ./../reports/model_results.csv\n"
     ]
    }
   ],
   "source": [
    "results_df = pd.DataFrame(results)\n",
    "os.makedirs(REPORTS_PATH, exist_ok=True)\n",
    "results_df.to_csv(os.path.join(REPORTS_PATH, \"model_results.csv\"), index=False)\n",
    "logger.info(f\"📄 Saved detailed report to: {REPORTS_PATH}/model_results.csv\")"
   ]
  }
 ],
 "metadata": {
  "kernelspec": {
   "display_name": "venv",
   "language": "python",
   "name": "python3"
  },
  "language_info": {
   "codemirror_mode": {
    "name": "ipython",
    "version": 3
   },
   "file_extension": ".py",
   "mimetype": "text/x-python",
   "name": "python",
   "nbconvert_exporter": "python",
   "pygments_lexer": "ipython3",
   "version": "3.12.9"
  }
 },
 "nbformat": 4,
 "nbformat_minor": 5
}
