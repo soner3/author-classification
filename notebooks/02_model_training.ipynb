{
 "cells": [
  {
   "cell_type": "code",
   "execution_count": null,
   "id": "d5cd0a8f",
   "metadata": {},
   "outputs": [],
   "source": [
    "import os\n",
    "import sys\n",
    "import numpy as np\n",
    "import pandas as pd\n",
    "from scipy.sparse import load_npz\n",
    "from sklearn.ensemble import RandomForestClassifier\n",
    "from sklearn.tree import DecisionTreeClassifier\n",
    "from sklearn.naive_bayes import MultinomialNB\n",
    "from sklearn.svm import SVC\n",
    "from concurrent.futures import ThreadPoolExecutor, as_completed\n",
    "from sklearn.neural_network import MLPClassifier\n",
    "from sklearn.metrics import accuracy_score, precision_score, recall_score, f1_score\n",
    "from xgboost import XGBClassifier\n",
    "# Setup src imports\n",
    "sys.path.append(os.path.abspath(os.path.join(os.getcwd(), '..', 'src')))\n",
    "from logger import get_logger"
   ]
  },
  {
   "cell_type": "markdown",
   "id": "310d5946",
   "metadata": {},
   "source": [
    "# Paths"
   ]
  },
  {
   "cell_type": "code",
   "execution_count": null,
   "id": "c53f3793",
   "metadata": {},
   "outputs": [],
   "source": [
    "DATA_TRAIN_PATH = \"./../data/train\"\n",
    "DATA_TEST_PATH = \"./../data/test\"\n",
    "REPORTS_PATH = \"./../reports\""
   ]
  },
  {
   "cell_type": "markdown",
   "id": "4c08d206",
   "metadata": {},
   "source": [
    "# Initialize logger"
   ]
  },
  {
   "cell_type": "code",
   "execution_count": null,
   "id": "05b8de92",
   "metadata": {},
   "outputs": [],
   "source": [
    "logger = get_logger(\"train_models\")"
   ]
  },
  {
   "cell_type": "markdown",
   "id": "d4470d5c",
   "metadata": {},
   "source": [
    "# Define classification models"
   ]
  },
  {
   "cell_type": "code",
   "execution_count": null,
   "id": "5afc5361",
   "metadata": {},
   "outputs": [],
   "source": [
    "models = {\n",
    "    \"RandomForest\": lambda: RandomForestClassifier(random_state=42),\n",
    "    \"SVM\": lambda: SVC(kernel=\"linear\", random_state=42),\n",
    "    \"XGBoost\": lambda: XGBClassifier(eval_metric=\"mlogloss\", random_state=42),\n",
    "    \"NaiveBayes\": lambda: MultinomialNB(),\n",
    "    \"MLP\": lambda: MLPClassifier(max_iter=300, random_state=42),\n",
    "    \"DecisionTree\": lambda: DecisionTreeClassifier(random_state=42)\n",
    "}"
   ]
  },
  {
   "cell_type": "markdown",
   "id": "1c6e0b3b",
   "metadata": {},
   "source": [
    "# Define feature sets and their sparsity"
   ]
  },
  {
   "cell_type": "code",
   "execution_count": null,
   "id": "e82c08b2",
   "metadata": {},
   "outputs": [],
   "source": [
    "feature_sets = [\n",
    "    (\"tfidf_word_1gram\", True),\n",
    "    (\"tfidf_word_2gram\", True),\n",
    "    (\"tfidf_word_3gram\", True),\n",
    "    (\"tfidf_char_2gram\", True),\n",
    "    (\"tfidf_char_3gram\", True),\n",
    "    (\"bert\", False)\n",
    "]"
   ]
  },
  {
   "cell_type": "markdown",
   "id": "33d23af2",
   "metadata": {},
   "source": [
    "# Load training and test data for a given feature set"
   ]
  },
  {
   "cell_type": "code",
   "execution_count": null,
   "id": "316c17ed",
   "metadata": {},
   "outputs": [],
   "source": [
    "def load_split_data(name, sparse=True):\n",
    "    if sparse:\n",
    "        X_train = load_npz(f\"{DATA_TRAIN_PATH}/X_{name}.npz\")\n",
    "        X_test = load_npz(f\"{DATA_TEST_PATH}/X_{name}.npz\")\n",
    "    else:\n",
    "        X_train = np.load(f\"{DATA_TRAIN_PATH}/X_{name}.npy\")\n",
    "        X_test = np.load(f\"{DATA_TEST_PATH}/X_{name}.npy\")\n",
    "\n",
    "    y_train = np.load(f\"{DATA_TRAIN_PATH}/y_{name}.npy\")\n",
    "    y_test = np.load(f\"{DATA_TEST_PATH}/y_{name}.npy\")\n",
    "    return X_train, X_test, y_train, y_test"
   ]
  },
  {
   "cell_type": "markdown",
   "id": "323ad933",
   "metadata": {},
   "source": [
    "# Evaluation function"
   ]
  },
  {
   "cell_type": "code",
   "execution_count": null,
   "id": "1cabfc42",
   "metadata": {},
   "outputs": [],
   "source": [
    "def evaluate_model(feature_name, is_sparse, model_name, model_factory):\n",
    "    logger.info(f\"📊 Feature: {feature_name} | 🔧 Model: {model_name}\")\n",
    "    try:\n",
    "        X_train, X_test, y_train, y_test = load_split_data(feature_name, sparse=is_sparse)\n",
    "\n",
    "        # Skip NB on dense inputs\n",
    "        if model_name == \"NaiveBayes\" and not is_sparse:\n",
    "            logger.warning(f\"⏭ Skipping NaiveBayes for dense feature set: {feature_name}\")\n",
    "            return None\n",
    "\n",
    "        model = model_factory()\n",
    "        model.fit(X_train, y_train)\n",
    "        y_pred = model.predict(X_test)\n",
    "\n",
    "        acc = accuracy_score(y_test, y_pred)\n",
    "        err = 1 - acc\n",
    "\n",
    "        prec_per_class = precision_score(y_test, y_pred, average=None, zero_division=0)\n",
    "        recall_per_class = recall_score(y_test, y_pred, average=None, zero_division=0)\n",
    "        f1_per_class = f1_score(y_test, y_pred, average=None, zero_division=0)\n",
    "        weighted_f1 = f1_score(y_test, y_pred, average=\"weighted\", zero_division=0)\n",
    "\n",
    "        result = {\n",
    "            \"Feature\": feature_name,\n",
    "            \"Model\": model_name,\n",
    "            \"Accuracy\": acc,\n",
    "            \"ErrorRate\": err,\n",
    "            \"Pos_Precision\": prec_per_class[1] if len(prec_per_class) > 1 else 0,\n",
    "            \"Neg_Precision\": prec_per_class[0],\n",
    "            \"Pos_Recall\": recall_per_class[1] if len(recall_per_class) > 1 else 0,\n",
    "            \"Neg_Recall\": recall_per_class[0],\n",
    "            \"Pos_F1\": f1_per_class[1] if len(f1_per_class) > 1 else 0,\n",
    "            \"Neg_F1\": f1_per_class[0],\n",
    "            \"Weighted_F1\": weighted_f1\n",
    "        }\n",
    "        logger.info(f\"✅ {model_name} on {feature_name} → Acc: {acc:.3f} | F1: {weighted_f1:.3f}\")\n",
    "        return result\n",
    "\n",
    "    except Exception as e:\n",
    "        logger.error(f\"❌ Error in {model_name} on {feature_name}: {e}\")\n",
    "        return None"
   ]
  },
  {
   "cell_type": "markdown",
   "id": "a1ff871c",
   "metadata": {},
   "source": [
    "# Run evaluations in parallel"
   ]
  },
  {
   "cell_type": "code",
   "execution_count": null,
   "id": "35191817",
   "metadata": {},
   "outputs": [],
   "source": [
    "results = []\n",
    "\n",
    "logger.info(\"🚀 Starting parallel model evaluation...\")\n",
    "with ThreadPoolExecutor(max_workers=os.cpu_count()) as executor:\n",
    "    futures = [\n",
    "        executor.submit(evaluate_model, fname, is_sparse, mname, mfactory)\n",
    "        for fname, is_sparse in feature_sets\n",
    "        for mname, mfactory in models.items()\n",
    "    ]\n",
    "\n",
    "    for future in as_completed(futures):\n",
    "        res = future.result()\n",
    "        if res:\n",
    "            results.append(res)"
   ]
  },
  {
   "cell_type": "markdown",
   "id": "4eae3e51",
   "metadata": {},
   "source": [
    "# Save results to CSV for reporting"
   ]
  },
  {
   "cell_type": "code",
   "execution_count": null,
   "id": "d559a139",
   "metadata": {},
   "outputs": [],
   "source": [
    "results_df = pd.DataFrame(results)\n",
    "os.makedirs(REPORTS_PATH, exist_ok=True)\n",
    "results_df.to_csv(os.path.join(REPORTS_PATH, \"model_results.csv\"), index=False)\n",
    "logger.info(f\"📄 Saved detailed report to: {REPORTS_PATH}/model_results.csv\")"
   ]
  }
 ],
 "metadata": {
  "kernelspec": {
   "display_name": "venv",
   "language": "python",
   "name": "python3"
  },
  "language_info": {
   "codemirror_mode": {
    "name": "ipython",
    "version": 3
   },
   "file_extension": ".py",
   "mimetype": "text/x-python",
   "name": "python",
   "nbconvert_exporter": "python",
   "pygments_lexer": "ipython3",
   "version": "3.12.9"
  }
 },
 "nbformat": 4,
 "nbformat_minor": 5
}
