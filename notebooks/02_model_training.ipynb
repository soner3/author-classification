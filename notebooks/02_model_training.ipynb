{
 "cells": [
  {
   "cell_type": "code",
   "execution_count": 21,
   "id": "d5cd0a8f",
   "metadata": {},
   "outputs": [],
   "source": [
    "import os\n",
    "import sys\n",
    "import numpy as np\n",
    "import pandas as pd\n",
    "from scipy.sparse import load_npz\n",
    "from sklearn.ensemble import RandomForestClassifier\n",
    "from sklearn.tree import DecisionTreeClassifier\n",
    "from sklearn.naive_bayes import MultinomialNB\n",
    "from sklearn.svm import SVC\n",
    "from sklearn.neural_network import MLPClassifier\n",
    "from sklearn.metrics import accuracy_score, precision_score, recall_score, f1_score\n",
    "from xgboost import XGBClassifier\n",
    "# Setup src imports\n",
    "sys.path.append(os.path.abspath(os.path.join(os.getcwd(), '..', 'src')))\n",
    "from logger import get_logger"
   ]
  },
  {
   "cell_type": "markdown",
   "id": "310d5946",
   "metadata": {},
   "source": [
    "# Paths"
   ]
  },
  {
   "cell_type": "code",
   "execution_count": 22,
   "id": "c53f3793",
   "metadata": {},
   "outputs": [],
   "source": [
    "DATA_TRAIN_PATH = \"./../data/train\"\n",
    "DATA_TEST_PATH = \"./../data/test\"\n",
    "REPORTS_PATH = \"./../reports\""
   ]
  },
  {
   "cell_type": "markdown",
   "id": "4c08d206",
   "metadata": {},
   "source": [
    "# Initialize logger"
   ]
  },
  {
   "cell_type": "code",
   "execution_count": 23,
   "id": "05b8de92",
   "metadata": {},
   "outputs": [],
   "source": [
    "logger = get_logger(\"train_models\")"
   ]
  },
  {
   "cell_type": "markdown",
   "id": "d4470d5c",
   "metadata": {},
   "source": [
    "# Define classification models"
   ]
  },
  {
   "cell_type": "code",
   "execution_count": 24,
   "id": "5afc5361",
   "metadata": {},
   "outputs": [],
   "source": [
    "models = {\n",
    "    \"RandomForest\": RandomForestClassifier(n_jobs=-1, random_state=42),\n",
    "    \"SVM\": SVC(kernel=\"linear\", random_state=42),\n",
    "    \"XGBoost\": XGBClassifier(eval_metric=\"mlogloss\", n_jobs=-1, random_state=42),\n",
    "    \"NaiveBayes\": MultinomialNB(),\n",
    "    \"MLP\": MLPClassifier(max_iter=300, early_stopping=True, random_state=42),\n",
    "    \"DecisionTree\": DecisionTreeClassifier(random_state=42)\n",
    "}"
   ]
  },
  {
   "cell_type": "markdown",
   "id": "1c6e0b3b",
   "metadata": {},
   "source": [
    "# Define feature sets and their sparsity"
   ]
  },
  {
   "cell_type": "code",
   "execution_count": 25,
   "id": "e82c08b2",
   "metadata": {},
   "outputs": [],
   "source": [
    "feature_sets = [\n",
    "    (\"tfidf_word_1gram\", True),\n",
    "    (\"tfidf_word_2gram\", True),\n",
    "    (\"tfidf_word_3gram\", True),\n",
    "    (\"tfidf_char_2gram\", True),\n",
    "    (\"tfidf_char_3gram\", True),\n",
    "    (\"bert\", False)\n",
    "]"
   ]
  },
  {
   "cell_type": "markdown",
   "id": "33d23af2",
   "metadata": {},
   "source": [
    "# Load training and test data for a given feature set"
   ]
  },
  {
   "cell_type": "code",
   "execution_count": 26,
   "id": "316c17ed",
   "metadata": {},
   "outputs": [],
   "source": [
    "def load_split_data(name, sparse=True):\n",
    "    if sparse:\n",
    "        X_train = load_npz(f\"{DATA_TRAIN_PATH}/X_{name}.npz\")\n",
    "        X_test = load_npz(f\"{DATA_TEST_PATH}/X_{name}.npz\")\n",
    "    else:\n",
    "        X_train = np.load(f\"{DATA_TRAIN_PATH}/X_{name}.npy\")\n",
    "        X_test = np.load(f\"{DATA_TEST_PATH}/X_{name}.npy\")\n",
    "\n",
    "    y_train = np.load(f\"{DATA_TRAIN_PATH}/y_{name}.npy\")\n",
    "    y_test = np.load(f\"{DATA_TEST_PATH}/y_{name}.npy\")\n",
    "    return X_train, X_test, y_train, y_test"
   ]
  },
  {
   "cell_type": "markdown",
   "id": "a1ff871c",
   "metadata": {},
   "source": [
    "# Train and evaluate models"
   ]
  },
  {
   "cell_type": "code",
   "execution_count": 27,
   "id": "35191817",
   "metadata": {},
   "outputs": [
    {
     "name": "stdout",
     "output_type": "stream",
     "text": [
      "2025-04-11 16:03:24 [INFO] 📊 Feature set: tfidf_word_1gram\n",
      "2025-04-11 16:03:24 [INFO] 🔧 Training model: RandomForest\n",
      "2025-04-11 16:03:25 [INFO] ✅ RandomForest — Acc: 0.646 | F1: 0.643\n",
      "2025-04-11 16:03:25 [INFO] 🔧 Training model: SVM\n",
      "2025-04-11 16:03:34 [INFO] ✅ SVM — Acc: 0.792 | F1: 0.793\n",
      "2025-04-11 16:03:34 [INFO] 🔧 Training model: XGBoost\n",
      "2025-04-11 16:04:18 [INFO] ✅ XGBoost — Acc: 0.537 | F1: 0.530\n",
      "2025-04-11 16:04:18 [INFO] 🔧 Training model: NaiveBayes\n",
      "2025-04-11 16:04:18 [INFO] ✅ NaiveBayes — Acc: 0.838 | F1: 0.825\n",
      "2025-04-11 16:04:18 [INFO] 🔧 Training model: MLP\n",
      "2025-04-11 16:04:26 [INFO] ✅ MLP — Acc: 0.771 | F1: 0.774\n",
      "2025-04-11 16:04:26 [INFO] 🔧 Training model: DecisionTree\n",
      "2025-04-11 16:04:28 [INFO] ✅ DecisionTree — Acc: 0.292 | F1: 0.286\n",
      "2025-04-11 16:04:28 [INFO] 📊 Feature set: tfidf_word_2gram\n",
      "2025-04-11 16:04:28 [INFO] 🔧 Training model: RandomForest\n",
      "2025-04-11 16:04:29 [INFO] ✅ RandomForest — Acc: 0.421 | F1: 0.422\n",
      "2025-04-11 16:04:29 [INFO] 🔧 Training model: SVM\n",
      "2025-04-11 16:04:31 [INFO] ✅ SVM — Acc: 0.442 | F1: 0.468\n",
      "2025-04-11 16:04:31 [INFO] 🔧 Training model: XGBoost\n",
      "2025-04-11 16:04:49 [INFO] ✅ XGBoost — Acc: 0.317 | F1: 0.301\n",
      "2025-04-11 16:04:49 [INFO] 🔧 Training model: NaiveBayes\n",
      "2025-04-11 16:04:49 [INFO] ✅ NaiveBayes — Acc: 0.642 | F1: 0.625\n",
      "2025-04-11 16:04:49 [INFO] 🔧 Training model: MLP\n",
      "2025-04-11 16:04:54 [INFO] ✅ MLP — Acc: 0.533 | F1: 0.527\n",
      "2025-04-11 16:04:54 [INFO] 🔧 Training model: DecisionTree\n",
      "2025-04-11 16:04:55 [INFO] ✅ DecisionTree — Acc: 0.183 | F1: 0.176\n",
      "2025-04-11 16:04:55 [INFO] 📊 Feature set: tfidf_word_3gram\n",
      "2025-04-11 16:04:55 [INFO] 🔧 Training model: RandomForest\n",
      "2025-04-11 16:04:56 [INFO] ✅ RandomForest — Acc: 0.183 | F1: 0.189\n",
      "2025-04-11 16:04:56 [INFO] 🔧 Training model: SVM\n",
      "2025-04-11 16:04:56 [INFO] ✅ SVM — Acc: 0.125 | F1: 0.140\n",
      "2025-04-11 16:04:56 [INFO] 🔧 Training model: XGBoost\n",
      "2025-04-11 16:05:06 [INFO] ✅ XGBoost — Acc: 0.121 | F1: 0.107\n",
      "2025-04-11 16:05:06 [INFO] 🔧 Training model: NaiveBayes\n",
      "2025-04-11 16:05:06 [INFO] ✅ NaiveBayes — Acc: 0.358 | F1: 0.350\n",
      "2025-04-11 16:05:06 [INFO] 🔧 Training model: MLP\n",
      "2025-04-11 16:05:11 [INFO] ✅ MLP — Acc: 0.312 | F1: 0.302\n",
      "2025-04-11 16:05:11 [INFO] 🔧 Training model: DecisionTree\n",
      "2025-04-11 16:05:11 [INFO] ✅ DecisionTree — Acc: 0.150 | F1: 0.155\n",
      "2025-04-11 16:05:11 [INFO] 📊 Feature set: tfidf_char_2gram\n",
      "2025-04-11 16:05:12 [INFO] 🔧 Training model: RandomForest\n",
      "2025-04-11 16:05:12 [INFO] ✅ RandomForest — Acc: 0.696 | F1: 0.684\n",
      "2025-04-11 16:05:12 [INFO] 🔧 Training model: SVM\n",
      "2025-04-11 16:05:19 [INFO] ✅ SVM — Acc: 0.808 | F1: 0.806\n",
      "2025-04-11 16:05:19 [INFO] 🔧 Training model: XGBoost\n",
      "2025-04-11 16:05:57 [INFO] ✅ XGBoost — Acc: 0.767 | F1: 0.764\n",
      "2025-04-11 16:05:57 [INFO] 🔧 Training model: NaiveBayes\n",
      "2025-04-11 16:05:57 [INFO] ✅ NaiveBayes — Acc: 0.875 | F1: 0.871\n",
      "2025-04-11 16:05:57 [INFO] 🔧 Training model: MLP\n",
      "2025-04-11 16:06:00 [INFO] ✅ MLP — Acc: 0.833 | F1: 0.833\n",
      "2025-04-11 16:06:00 [INFO] 🔧 Training model: DecisionTree\n",
      "2025-04-11 16:06:01 [INFO] ✅ DecisionTree — Acc: 0.571 | F1: 0.574\n",
      "2025-04-11 16:06:01 [INFO] 📊 Feature set: tfidf_char_3gram\n",
      "2025-04-11 16:06:01 [INFO] 🔧 Training model: RandomForest\n",
      "2025-04-11 16:06:03 [INFO] ✅ RandomForest — Acc: 0.767 | F1: 0.753\n",
      "2025-04-11 16:06:03 [INFO] 🔧 Training model: SVM\n",
      "2025-04-11 16:06:46 [INFO] ✅ SVM — Acc: 0.879 | F1: 0.877\n",
      "2025-04-11 16:06:46 [INFO] 🔧 Training model: XGBoost\n",
      "2025-04-11 16:09:16 [INFO] ✅ XGBoost — Acc: 0.812 | F1: 0.804\n",
      "2025-04-11 16:09:16 [INFO] 🔧 Training model: NaiveBayes\n",
      "2025-04-11 16:09:16 [INFO] ✅ NaiveBayes — Acc: 0.925 | F1: 0.922\n",
      "2025-04-11 16:09:16 [INFO] 🔧 Training model: MLP\n",
      "2025-04-11 16:09:23 [INFO] ✅ MLP — Acc: 0.767 | F1: 0.754\n",
      "2025-04-11 16:09:23 [INFO] 🔧 Training model: DecisionTree\n",
      "2025-04-11 16:09:30 [INFO] ✅ DecisionTree — Acc: 0.479 | F1: 0.472\n",
      "2025-04-11 16:09:30 [INFO] 📊 Feature set: bert\n",
      "2025-04-11 16:09:30 [INFO] 🔧 Training model: RandomForest\n",
      "2025-04-11 16:09:31 [INFO] ✅ RandomForest — Acc: 0.558 | F1: 0.543\n",
      "2025-04-11 16:09:31 [INFO] 🔧 Training model: SVM\n",
      "2025-04-11 16:09:32 [INFO] ✅ SVM — Acc: 0.804 | F1: 0.801\n",
      "2025-04-11 16:09:32 [INFO] 🔧 Training model: XGBoost\n",
      "2025-04-11 16:10:02 [INFO] ✅ XGBoost — Acc: 0.579 | F1: 0.581\n",
      "2025-04-11 16:10:02 [WARNING] ⏭ Skipping NaiveBayes for dense feature set: bert\n",
      "2025-04-11 16:10:02 [INFO] 🔧 Training model: MLP\n",
      "2025-04-11 16:10:04 [INFO] ✅ MLP — Acc: 0.750 | F1: 0.747\n",
      "2025-04-11 16:10:04 [INFO] 🔧 Training model: DecisionTree\n",
      "2025-04-11 16:10:06 [INFO] ✅ DecisionTree — Acc: 0.163 | F1: 0.167\n"
     ]
    }
   ],
   "source": [
    "results = []\n",
    "\n",
    "for feature_name, is_sparse in feature_sets:\n",
    "    logger.info(f\"📊 Feature set: {feature_name}\")\n",
    "    X_train, X_test, y_train, y_test = load_split_data(feature_name, sparse=is_sparse)\n",
    "\n",
    "    for model_name, model in models.items():\n",
    "        # Skip Naive Bayes on dense embeddings (e.g. BERT)\n",
    "        if model_name == \"NaiveBayes\" and not is_sparse:\n",
    "            logger.warning(f\"⏭ Skipping NaiveBayes for dense feature set: {feature_name}\")\n",
    "            continue\n",
    "\n",
    "        logger.info(f\"🔧 Training model: {model_name}\")\n",
    "        model.fit(X_train, y_train)\n",
    "        y_pred = model.predict(X_test)\n",
    "\n",
    "        # Compute metrics\n",
    "        acc = accuracy_score(y_test, y_pred)\n",
    "        prec = precision_score(y_test, y_pred, average=\"weighted\", zero_division=0)\n",
    "        rec = recall_score(y_test, y_pred, average=\"weighted\")\n",
    "        f1 = f1_score(y_test, y_pred, average=\"weighted\")\n",
    "\n",
    "        logger.info(f\"✅ {model_name} — Acc: {acc:.3f} | F1: {f1:.3f}\")\n",
    "\n",
    "        results.append({\n",
    "            \"Feature\": feature_name,\n",
    "            \"Model\": model_name,\n",
    "            \"Accuracy\": acc,\n",
    "            \"Precision\": prec,\n",
    "            \"Recall\": rec,\n",
    "            \"F1-Score\": f1\n",
    "        })"
   ]
  },
  {
   "cell_type": "markdown",
   "id": "4eae3e51",
   "metadata": {},
   "source": [
    "# Save results to CSV for reporting"
   ]
  },
  {
   "cell_type": "code",
   "execution_count": 28,
   "id": "d559a139",
   "metadata": {},
   "outputs": [
    {
     "name": "stdout",
     "output_type": "stream",
     "text": [
      "2025-04-11 16:10:07 [INFO] 📄 Saved evaluation report to: ./../reports/model_results.csv\n"
     ]
    }
   ],
   "source": [
    "os.makedirs(REPORTS_PATH, exist_ok=True)\n",
    "results_df = pd.DataFrame(results)\n",
    "results_df.to_csv(os.path.join(REPORTS_PATH, \"model_results.csv\"), index=False)\n",
    "logger.info(f\"📄 Saved evaluation report to: {REPORTS_PATH}/model_results.csv\")"
   ]
  }
 ],
 "metadata": {
  "kernelspec": {
   "display_name": "venv",
   "language": "python",
   "name": "python3"
  },
  "language_info": {
   "codemirror_mode": {
    "name": "ipython",
    "version": 3
   },
   "file_extension": ".py",
   "mimetype": "text/x-python",
   "name": "python",
   "nbconvert_exporter": "python",
   "pygments_lexer": "ipython3",
   "version": "3.12.9"
  }
 },
 "nbformat": 4,
 "nbformat_minor": 5
}
