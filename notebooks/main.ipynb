{
 "cells": [
  {
   "cell_type": "code",
   "execution_count": 1,
   "id": "e6683f39",
   "metadata": {},
   "outputs": [],
   "source": [
    "import sys\n",
    "import os\n",
    "sys.path.append(os.path.abspath(os.path.join(os.getcwd(), '..', 'src')))\n",
    "\n",
    "from data_loader import load_authorship_dataset\n",
    "\n",
    "\n",
    "RAW_DATA_PATH = \"./../data/raw/dataset_authorship\""
   ]
  },
  {
   "cell_type": "code",
   "execution_count": 2,
   "id": "f97de408",
   "metadata": {},
   "outputs": [
    {
     "name": "stdout",
     "output_type": "stream",
     "text": [
      "['AAltan', 'AAydintasbas', 'AHakan', 'ATuranAlkan', 'AYArslan', 'BCoskun', 'CCandar', 'COzdemir', 'DCundioglu', 'DUAribogan', 'EArdic', 'ECakir', 'GGokturk', 'HBabaoglu', 'HCemal', 'HUluc', 'IKucukkaya', 'MABirand', 'MBaransu', 'MBarlas', 'MNHazar', 'MTonbekici', 'NBKaraca', 'NIlicak', 'PMagden', 'RMengi', 'SOzisik', 'TAkyol', 'YCongar', 'YOzdil']\n"
     ]
    }
   ],
   "source": [
    "# Load data with numeric labels\n",
    "df, label_encoder = load_authorship_dataset(RAW_DATA_PATH, encode_labels=True)\n",
    "print(sorted(df['author'].unique()))"
   ]
  }
 ],
 "metadata": {
  "kernelspec": {
   "display_name": "venv",
   "language": "python",
   "name": "python3"
  },
  "language_info": {
   "codemirror_mode": {
    "name": "ipython",
    "version": 3
   },
   "file_extension": ".py",
   "mimetype": "text/x-python",
   "name": "python",
   "nbconvert_exporter": "python",
   "pygments_lexer": "ipython3",
   "version": "3.12.9"
  }
 },
 "nbformat": 4,
 "nbformat_minor": 5
}
